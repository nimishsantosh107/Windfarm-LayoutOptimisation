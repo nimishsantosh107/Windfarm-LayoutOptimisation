{
 "cells": [
  {
   "cell_type": "code",
   "execution_count": 57,
   "metadata": {},
   "outputs": [],
   "source": [
    "import sys\n",
    "sys.path.insert(1, '../evaluator')\n",
    "\n",
    "import gc\n",
    "import itertools\n",
    "import random as rndm\n",
    "import numpy as np\n",
    "import matplotlib.pyplot as plt\n",
    "from skimage import draw\n",
    "from evaluator import *\n",
    "from concurrent.futures import ProcessPoolExecutor, ThreadPoolExecutor\n",
    "\n",
    "%matplotlib inline"
   ]
  },
  {
   "cell_type": "code",
   "execution_count": 58,
   "metadata": {},
   "outputs": [],
   "source": [
    "'''\n",
    "evaluator.py\n",
    "IMPORTS:\n",
    "\n",
    "getTurbLoc(TURB_LOC_file_name)\n",
    "\n",
    "loadPowerCurve(POWER_CURVE_file_name)\n",
    "\n",
    "binWindResourceData(WIND_DATA_file_name)\n",
    "\n",
    "searchSorted(lookup, sample_array)\n",
    "\n",
    "preProcessing(POWER_CURVE)\n",
    "\n",
    "getAEP(TURB_DIAM, turb_coords, POWER_CURVE, WIND_INST_FREQ,\n",
    "       N_WIND_INSTANCES, COS_DIR, SIN_DIR, WIND_SPEED_STACKED, C_t)\n",
    "       \n",
    "checkConstraints(turb_coords, TURB_DIAM)\n",
    "\n",
    "'''\n",
    "\n",
    "# Turbine Specifications.\n",
    "# -**-SHOULD NOT BE MODIFIED-**-\n",
    "TURB_SPECS    =  {\n",
    "                     'Name': 'Anon Name',\n",
    "                     'Vendor': 'Anon Vendor',\n",
    "                     'Type': 'Anon Type',\n",
    "                     'Dia (m)': 100,\n",
    "                     'Rotor Area (m2)': 7853,\n",
    "                     'Hub Height (m)': 100,\n",
    "                     'Cut-in Wind Speed (m/s)': 3.5,\n",
    "                     'Cut-out Wind Speed (m/s)': 25,\n",
    "                     'Rated Wind Speed (m/s)': 15,\n",
    "                     'Rated Power (MW)': 3\n",
    "                 }\n",
    "TURB_DIAM      =  TURB_SPECS['Dia (m)']\n",
    "TURB_DIAM       =  TURB_DIAM/2\n",
    "\n",
    "# Load the power curve\n",
    "POWER_CURVE   =  loadPowerCurve('./../evaluator/power_curve.csv')\n",
    "\n",
    "# Pass wind data csv file location to function binWindResourceData.\n",
    "# Retrieve probabilities of wind instance occurence.\n",
    "WIND_INST_FREQ =  binWindResourceData('./../evaluator/wind_data/wind_data_2007.csv')\n",
    "\n",
    "# Doing preprocessing to avoid the same repeating calculations. Record\n",
    "# the required data for calculations. Do that once. Data are set up (shaped)\n",
    "# to assist vectorization. Used later in function totalAEP.\n",
    "N_WIND_INSTANCES, COS_DIR, SIN_DIR, WIND_SPEED_STACKED, C_t = preProcessing(POWER_CURVE)\n",
    "\n",
    "# check if there is any constraint is violated before we do anything. \n",
    "def evalPrint(turbine_coordinates):\n",
    "    checkConstraints(turbine_coordinates, TURB_DIAM)\n",
    "    \n",
    "    print('[INFO] Calculating AEP')\n",
    "    AEP = getAEP(TURB_DIAM, turbine_coordinates, POWER_CURVE, WIND_INST_FREQ,\n",
    "                 N_WIND_INSTANCES, COS_DIR, SIN_DIR, WIND_SPEED_STACKED, C_t)\n",
    "    print('[INFO] Power produced : ', \"%.12f\"%(AEP), 'GWh')\n",
    "    \n",
    "    \n",
    "# TEST VALUES\n",
    "# Turbine x,y coordinates\n",
    "TEST_COORDS   =  getTurbLoc(r'./../test_locations.csv')"
   ]
  },
  {
   "cell_type": "code",
   "execution_count": 59,
   "metadata": {},
   "outputs": [
    {
     "name": "stdout",
     "output_type": "stream",
     "text": [
      "[SUCCESS] perimeter and proximity constraints - SATISFIED\n",
      "--------######---------\n",
      "[SUCCESS] perimeter and proximity constraints - SATISFIED\n",
      "[INFO] Calculating AEP\n",
      "[INFO] Power produced :  505.450636596680 GWh\n",
      "\n",
      "CPU times: user 125 ms, sys: 15.7 ms, total: 141 ms\n",
      "Wall time: 153 ms\n"
     ]
    }
   ],
   "source": [
    "%%time\n",
    "# SELF TEST\n",
    "_ = checkConstraints(TEST_COORDS, TURB_DIAM)\n",
    "print(\"--------######---------\")\n",
    "evalPrint(TEST_COORDS)\n",
    "print()"
   ]
  },
  {
   "cell_type": "markdown",
   "metadata": {},
   "source": [
    "## Classes"
   ]
  },
  {
   "cell_type": "code",
   "execution_count": 68,
   "metadata": {},
   "outputs": [],
   "source": [
    "class DNA:\n",
    "    def __init__(self):\n",
    "        self.fitness = 0\n",
    "        self.genes, self.state = self.generate_state()\n",
    "       \n",
    "    # GENERATE SET OF VALID GENES\n",
    "    def generate_state(self):\n",
    "        state = np.zeros((3900, 3900)).astype(np.int8)\n",
    "        coordinates = np.array([], dtype=np.int64).reshape(0,2)\n",
    "\n",
    "        count_placed = 0\n",
    "        while(count_placed < 50):\n",
    "            free_coordinates = np.where(state == 0)\n",
    "            if(len(free_coordinates[0]) == 0): \n",
    "                return -1\n",
    "\n",
    "            free_coordinates = np.stack([*free_coordinates]).transpose()\n",
    "            chosen_coordinate = rndm.choice(free_coordinates)\n",
    "            \n",
    "            r, c = draw.circle(chosen_coordinate[0], chosen_coordinate[1], radius=400, shape=state.shape)\n",
    "            state[r, c] = 1\n",
    "            r, c = draw.circle(chosen_coordinate[0], chosen_coordinate[1], radius=50, shape=state.shape)\n",
    "            state[r, c] = 2\n",
    "\n",
    "            coordinates = np.concatenate([coordinates, chosen_coordinate.reshape(1,2)], axis=0)\n",
    "            count_placed += 1\n",
    "\n",
    "        coordinates = coordinates + 50\n",
    "        coordinates = coordinates[np.lexsort((coordinates[:,1],coordinates[:,0]))]\n",
    "        \n",
    "        return (coordinates.flatten(),  np.pad(state, 50))\n",
    "        \n",
    "    # CALC & STORE FITNESS\n",
    "    def calc_fitness(self):\n",
    "        if(checkConstraints_F(self.get_tuples(), TURB_DIAM) == -1):\n",
    "            return 0\n",
    "        self.fitness = getAEP(TURB_DIAM, self.get_tuples(), POWER_CURVE, WIND_INST_FREQ, \n",
    "                              N_WIND_INSTANCES,COS_DIR, SIN_DIR, WIND_SPEED_STACKED, C_t)\n",
    "        return self.fitness\n",
    "    \n",
    "    # GET DNA AS TUPLE OF COORDINATES\n",
    "    def get_tuples(self):\n",
    "        return np.reshape(self.genes, newshape=(50,2))\n",
    "    \n",
    "    def __getitem__(self, index):\n",
    "        print(\"[ERR] USE d.genes[i]\")"
   ]
  },
  {
   "cell_type": "code",
   "execution_count": 69,
   "metadata": {},
   "outputs": [],
   "source": [
    "class Population:\n",
    "    def __init__(self, population_size, mutation_rate):\n",
    "        self.best_DNA = None\n",
    "        self.best_fitness = 0\n",
    "        self.generations = 0\n",
    "        \n",
    "        self.population_size = population_size\n",
    "        self.mutation_rate = mutation_rate\n",
    "        \n",
    "        # SINGLE THREADED POPULATION CREATION\n",
    "        # self.population = np.array([DNA() for i in range(self.population_size)])\n",
    "        \n",
    "        # MULTITHREADED POPULATION CREATION\n",
    "        processes = []\n",
    "        with ProcessPoolExecutor(max_workers=4) as executor:\n",
    "            for _ in range(self.population_size): \n",
    "                processes.append(executor.submit(DNA))\n",
    "        self.population = np.array([processes[i].result() for i in range(self.population_size)])\n",
    "    \n",
    "    # CALC & GET FITNESS\n",
    "    def calc_fitnesses(self):\n",
    "        return np.array([self.population[i].calc_fitness() for i in range(self.population_size)])\n",
    "    \n",
    "    def get_fitnesses(self):\n",
    "        return np.array([self.population[i].fitness for i in range(self.population_size)])\n",
    "    \n",
    "    ########################\n",
    "    \n",
    "    # GET DNAs\n",
    "    def get_population_DNA(self):\n",
    "        return np.array([self.population[i].get_DNA() for i in range(self.population_size)])\n",
    "        \n",
    "    def __getitem__(self, index):\n",
    "        print(\"[ERR] USE p.population[i]\")"
   ]
  },
  {
   "cell_type": "markdown",
   "metadata": {},
   "source": [
    "# Main"
   ]
  },
  {
   "cell_type": "code",
   "execution_count": 77,
   "metadata": {},
   "outputs": [
    {
     "name": "stdout",
     "output_type": "stream",
     "text": [
      "CPU times: user 45.8 ms, sys: 92.9 ms, total: 139 ms\n",
      "Wall time: 13.2 s\n"
     ]
    }
   ],
   "source": [
    "%%time\n",
    "# 1\n",
    "# MULTITHREAD\n",
    "x = Population(2, 0.1)"
   ]
  },
  {
   "cell_type": "code",
   "execution_count": 78,
   "metadata": {},
   "outputs": [
    {
     "data": {
      "image/png": "[encoded data removed]",
      "text/plain": [
       "<Figure size 864x288 with 2 Axes>"
      ]
     },
     "metadata": {
      "needs_background": "light"
     },
     "output_type": "display_data"
    }
   ],
   "source": [
    "# 1\n",
    "_, ax = plt.subplots(ncols=2, figsize=(12,4))\n",
    "for i in range(2):\n",
    "    ax[i].imshow(x.population[i].state)"
   ]
  },
  {
   "cell_type": "code",
   "execution_count": 79,
   "metadata": {},
   "outputs": [
    {
     "data": {
      "text/plain": [
       "array([ 218,  844,  280, 3472,  359, 2368,  377, 3072,  580,  383,  707,\n",
       "       2810,  753, 1175,  792, 3693,  813, 3238, 1012, 1720, 1150, 2205,\n",
       "       1281, 3177, 1284,  767, 1358, 1504, 1359,  101, 1575, 2594, 1718,\n",
       "       2074, 1718, 3945, 1725,  940, 1833, 2945, 1868,  128, 1893, 1689,\n",
       "       2028, 3478, 2196,  514, 2219, 2619, 2239, 1009, 2304,   65, 2374,\n",
       "       1479, 2433, 3888, 2544, 2042, 2592,  787, 2679, 3222, 2719,  148,\n",
       "       2731, 2478, 2757, 1201, 2916, 1886, 2922,  539, 3026, 3850, 3064,\n",
       "       3341, 3300,  952, 3306, 1435, 3354, 2978, 3385, 2353, 3496, 3673,\n",
       "       3686,  159, 3761, 1967, 3818, 2500, 3839,  626, 3907, 1412, 3921,\n",
       "       2995])"
      ]
     },
     "metadata": {},
     "output_type": "display_data"
    },
    {
     "data": {
      "text/plain": [
       "array([[ 218,  844],\n",
       "       [ 280, 3472],\n",
       "       [ 359, 2368],\n",
       "       [ 377, 3072],\n",
       "       [ 580,  383],\n",
       "       [ 707, 2810],\n",
       "       [ 753, 1175],\n",
       "       [ 792, 3693],\n",
       "       [ 813, 3238],\n",
       "       [1012, 1720],\n",
       "       [1150, 2205],\n",
       "       [1281, 3177],\n",
       "       [1284,  767],\n",
       "       [1358, 1504],\n",
       "       [1359,  101],\n",
       "       [1575, 2594],\n",
       "       [1718, 2074],\n",
       "       [1718, 3945],\n",
       "       [1725,  940],\n",
       "       [1833, 2945],\n",
       "       [1868,  128],\n",
       "       [1893, 1689],\n",
       "       [2028, 3478],\n",
       "       [2196,  514],\n",
       "       [2219, 2619],\n",
       "       [2239, 1009],\n",
       "       [2304,   65],\n",
       "       [2374, 1479],\n",
       "       [2433, 3888],\n",
       "       [2544, 2042],\n",
       "       [2592,  787],\n",
       "       [2679, 3222],\n",
       "       [2719,  148],\n",
       "       [2731, 2478],\n",
       "       [2757, 1201],\n",
       "       [2916, 1886],\n",
       "       [2922,  539],\n",
       "       [3026, 3850],\n",
       "       [3064, 3341],\n",
       "       [3300,  952],\n",
       "       [3306, 1435],\n",
       "       [3354, 2978],\n",
       "       [3385, 2353],\n",
       "       [3496, 3673],\n",
       "       [3686,  159],\n",
       "       [3761, 1967],\n",
       "       [3818, 2500],\n",
       "       [3839,  626],\n",
       "       [3907, 1412],\n",
       "       [3921, 2995]])"
      ]
     },
     "metadata": {},
     "output_type": "display_data"
    },
    {
     "data": {
      "text/plain": [
       "(100,)"
      ]
     },
     "metadata": {},
     "output_type": "display_data"
    }
   ],
   "source": [
    "display(x.population[0].genes)\n",
    "display(x.population[0].get_tuples())\n",
    "display(x.population[0].genes.shape)"
   ]
  },
  {
   "cell_type": "code",
   "execution_count": 80,
   "metadata": {},
   "outputs": [
    {
     "data": {
      "text/plain": [
       "array([510.38722595, 512.43416885])"
      ]
     },
     "execution_count": 80,
     "metadata": {},
     "output_type": "execute_result"
    }
   ],
   "source": [
    "x.calc_fitnesses()"
   ]
  },
  {
   "cell_type": "code",
   "execution_count": 81,
   "metadata": {},
   "outputs": [
    {
     "data": {
      "text/plain": [
       "array([510.38722595, 512.43416885])"
      ]
     },
     "execution_count": 81,
     "metadata": {},
     "output_type": "execute_result"
    }
   ],
   "source": [
    "x.get_fitnesses()"
   ]
  },
  {
   "cell_type": "code",
   "execution_count": null,
   "metadata": {},
   "outputs": [],
   "source": []
  }
 ],
 "metadata": {
  "kernelspec": {
   "display_name": "Python 3",
   "language": "python",
   "name": "python3"
  },
  "language_info": {
   "codemirror_mode": {
    "name": "ipython",
    "version": 3
   },
   "file_extension": ".py",
   "mimetype": "text/x-python",
   "name": "python",
   "nbconvert_exporter": "python",
   "pygments_lexer": "ipython3",
   "version": "3.7.7"
  }
 },
 "nbformat": 4,
 "nbformat_minor": 4
}
