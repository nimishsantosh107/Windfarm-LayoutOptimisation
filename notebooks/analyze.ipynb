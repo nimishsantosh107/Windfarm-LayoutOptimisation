{
 "cells": [
  {
   "cell_type": "code",
   "execution_count": 5,
   "metadata": {},
   "outputs": [],
   "source": [
    "import sys\n",
    "sys.path.insert(1, '../evaluator')\n",
    "\n",
    "import gc\n",
    "import itertools\n",
    "import numpy as np\n",
    "import matplotlib.pyplot as plt\n",
    "from skimage import draw\n",
    "from evaluator import *\n",
    "from concurrent.futures import ProcessPoolExecutor, ThreadPoolExecutor\n",
    "\n",
    "%matplotlib inline"
   ]
  },
  {
   "cell_type": "code",
   "execution_count": 6,
   "metadata": {},
   "outputs": [],
   "source": [
    "'''\n",
    "evaluator.py\n",
    "IMPORTS:\n",
    "\n",
    "getTurbLoc(TURB_LOC_file_name)\n",
    "\n",
    "loadPowerCurve(POWER_CURVE_file_name)\n",
    "\n",
    "binWindResourceData(WIND_DATA_file_name)\n",
    "\n",
    "searchSorted(lookup, sample_array)\n",
    "\n",
    "preProcessing(POWER_CURVE)\n",
    "\n",
    "getAEP(TURB_DIAM, turb_coords, POWER_CURVE, WIND_INST_FREQ,\n",
    "       N_WIND_INSTANCES, COS_DIR, SIN_DIR, WIND_SPEED_STACKED, C_t)\n",
    "       \n",
    "checkConstraints(turb_coords, TURB_DIAM)\n",
    "\n",
    "'''\n",
    "\n",
    "# Turbine Specifications.\n",
    "# -**-SHOULD NOT BE MODIFIED-**-\n",
    "TURB_SPECS    =  {\n",
    "                     'Name': 'Anon Name',\n",
    "                     'Vendor': 'Anon Vendor',\n",
    "                     'Type': 'Anon Type',\n",
    "                     'Dia (m)': 100,\n",
    "                     'Rotor Area (m2)': 7853,\n",
    "                     'Hub Height (m)': 100,\n",
    "                     'Cut-in Wind Speed (m/s)': 3.5,\n",
    "                     'Cut-out Wind Speed (m/s)': 25,\n",
    "                     'Rated Wind Speed (m/s)': 15,\n",
    "                     'Rated Power (MW)': 3\n",
    "                 }\n",
    "TURB_DIAM      =  TURB_SPECS['Dia (m)']\n",
    "TURB_DIAM       =  TURB_DIAM/2\n",
    "\n",
    "# Load the power curve\n",
    "POWER_CURVE   =  loadPowerCurve('./../evaluator/power_curve.csv')\n",
    "\n",
    "# Pass wind data csv file location to function binWindResourceData.\n",
    "# Retrieve probabilities of wind instance occurence.\n",
    "WIND_INST_FREQ =  binWindResourceData('./../evaluator/wind_data/wind_data_2007.csv')\n",
    "\n",
    "# Doing preprocessing to avoid the same repeating calculations. Record\n",
    "# the required data for calculations. Do that once. Data are set up (shaped)\n",
    "# to assist vectorization. Used later in function totalAEP.\n",
    "N_WIND_INSTANCES, COS_DIR, SIN_DIR, WIND_SPEED_STACKED, C_t = preProcessing(POWER_CURVE)\n",
    "\n",
    "# check if there is any constraint is violated before we do anything. \n",
    "def evalPrint(turbine_coordinates):\n",
    "    checkConstraints(turbine_coordinates, TURB_DIAM)\n",
    "    \n",
    "    print('[INFO] Calculating AEP')\n",
    "    AEP = getAEP(TURB_DIAM, turbine_coordinates, POWER_CURVE, WIND_INST_FREQ,\n",
    "                 N_WIND_INSTANCES, COS_DIR, SIN_DIR, WIND_SPEED_STACKED, C_t)\n",
    "    print('[INFO] Power produced : ', \"%.12f\"%(AEP), 'GWh')\n",
    "    \n",
    "    \n",
    "# TEST VALUES\n",
    "# Turbine x,y coordinates\n",
    "TEST_COORDS   =  getTurbLoc(r'./../test_locations.csv')"
   ]
  },
  {
   "cell_type": "code",
   "execution_count": 7,
   "metadata": {},
   "outputs": [
    {
     "name": "stdout",
     "output_type": "stream",
     "text": [
      "[SUCCESS] perimeter and proximity constraints - SATISFIED\n",
      "--------######---------\n",
      "[SUCCESS] perimeter and proximity constraints - SATISFIED\n",
      "[INFO] Calculating AEP\n",
      "[INFO] Power produced :  505.450636596680 GWh\n",
      "\n",
      "CPU times: user 151 ms, sys: 16.4 ms, total: 167 ms\n",
      "Wall time: 171 ms\n"
     ]
    }
   ],
   "source": [
    "%%time\n",
    "# SELF TEST\n",
    "_ = checkConstraints(TEST_COORDS, TURB_DIAM)\n",
    "print(\"--------######---------\")\n",
    "evalPrint(TEST_COORDS)\n",
    "print()"
   ]
  },
  {
   "cell_type": "markdown",
   "metadata": {},
   "source": [
    "## Classes"
   ]
  },
  {
   "cell_type": "code",
   "execution_count": 8,
   "metadata": {},
   "outputs": [],
   "source": [
    "class DNA:\n",
    "    def __init__(self):\n",
    "        self.fitness = 0\n",
    "        self.genes, self.state = self.generate_state()\n",
    "       \n",
    "    # GENERATE SET OF VALID GENES\n",
    "    def generate_state(self):\n",
    "        state = np.zeros((3900, 3900)).astype(np.int8)\n",
    "        coordinates = np.array([], dtype=np.int64).reshape(0,2)\n",
    "\n",
    "        count_placed = 0\n",
    "        while(count_placed < 50):\n",
    "            free_indices = np.where(state == 0)\n",
    "            if(len(free_indices[0]) == 0): return -1\n",
    "\n",
    "            free_indices = np.stack([*free_indices]).transpose()\n",
    "            free_choice = np.random.choice(len(free_indices))\n",
    "            index = free_indices[free_choice]\n",
    "\n",
    "            r, c = draw.circle(index[0], index[1], radius=400, shape=state.shape)\n",
    "            state[r, c] = 1\n",
    "            state[index[0],index[1]] = 2\n",
    "\n",
    "            coordinates = np.concatenate([coordinates, index.reshape(1,2)], axis=0)\n",
    "            count_placed += 1\n",
    "\n",
    "        coordinates = coordinates + 50\n",
    "        return (coordinates.flatten(),  np.pad(state, 50))\n",
    "        \n",
    "    # CALC & STORE FITNESS\n",
    "    def calc_fitness(self):\n",
    "        if(checkConstraints_F(self.get_tuples(), TURB_DIAM) == -1):\n",
    "            return 0\n",
    "        self.fitness = getAEP(TURB_DIAM, self.get_tuples(), POWER_CURVE, WIND_INST_FREQ, \n",
    "                              N_WIND_INSTANCES,COS_DIR, SIN_DIR, WIND_SPEED_STACKED, C_t)\n",
    "        return self.fitness\n",
    "    \n",
    "    # GET DNA AS TUPLE OF COORDINATES\n",
    "    def get_tuples(self):\n",
    "        return np.reshape(self.genes, newshape=(50,2))\n",
    "    \n",
    "    def __getitem__(self, index):\n",
    "        print(\"[ERR] USE d.genes[i]\")"
   ]
  },
  {
   "cell_type": "code",
   "execution_count": 19,
   "metadata": {},
   "outputs": [],
   "source": [
    "class Population:\n",
    "    def __init__(self, population_size, mutation_rate):\n",
    "        self.best_DNA = None\n",
    "        self.best_fitness = 0\n",
    "        self.generations = 0\n",
    "        \n",
    "        self.population_size = population_size\n",
    "        self.mutation_rate = mutation_rate\n",
    "        \n",
    "        self.population = np.array([DNA() for i in range(self.population_size)])\n",
    "        \n",
    "#         # MULTITHREADED POPULATION CREATION\n",
    "#         processes = []\n",
    "#         with ProcessPoolExecutor(max_workers=4) as executor:\n",
    "#             for _ in range(self.population_size): \n",
    "#                 processes.append(executor.submit(DNA))\n",
    "#         self.population = np.array([processes[i].result() for i in range(self.population_size)])\n",
    "    \n",
    "    # CALC & GET FITNESS\n",
    "    def calc_fitnesses(self):\n",
    "        return np.array([self.population[i].calc_fitness() for i in range(self.population_size)])\n",
    "    \n",
    "    def get_fitnesses(self):\n",
    "        return np.array([self.population[i].fitness for i in range(self.population_size)])\n",
    "    \n",
    "    ########################\n",
    "    \n",
    "    # GET DNAs\n",
    "    def get_population_DNA(self):\n",
    "        return np.array([self.population[i].get_DNA() for i in range(self.population_size)])\n",
    "        \n",
    "    def __getitem__(self, index):\n",
    "        print(\"[ERR] USE p.population[i]\")"
   ]
  },
  {
   "cell_type": "markdown",
   "metadata": {},
   "source": [
    "# Main"
   ]
  },
  {
   "cell_type": "code",
   "execution_count": 21,
   "metadata": {},
   "outputs": [
    {
     "name": "stdout",
     "output_type": "stream",
     "text": [
      "CPU times: user 38.3 s, sys: 13.8 s, total: 52.1 s\n",
      "Wall time: 53.1 s\n"
     ]
    }
   ],
   "source": [
    "%%time\n",
    "# 1\n",
    "# SINGLE THREAD\n",
    "x = Population(5, 0.1)"
   ]
  },
  {
   "cell_type": "code",
   "execution_count": 22,
   "metadata": {},
   "outputs": [
    {
     "data": {
      "image/png": "[encoded data removed]",
      "text/plain": [
       "<Figure size 864x288 with 5 Axes>"
      ]
     },
     "metadata": {
      "needs_background": "light"
     },
     "output_type": "display_data"
    }
   ],
   "source": [
    "# 1\n",
    "_, ax = plt.subplots(ncols=5, figsize=(12,4))\n",
    "for i in range(5):\n",
    "    ax[i].imshow(x.population[i].state)"
   ]
  },
  {
   "cell_type": "code",
   "execution_count": 17,
   "metadata": {},
   "outputs": [
    {
     "name": "stdout",
     "output_type": "stream",
     "text": [
      "CPU times: user 113 ms, sys: 211 ms, total: 323 ms\n",
      "Wall time: 29.3 s\n"
     ]
    }
   ],
   "source": [
    "%%time\n",
    "# 2\n",
    "# MULTI THREAD \n",
    "x = Population(5, 0.1)"
   ]
  },
  {
   "cell_type": "code",
   "execution_count": 18,
   "metadata": {},
   "outputs": [
    {
     "data": {
      "image/png": "[encoded data removed]",
      "text/plain": [
       "<Figure size 864x288 with 5 Axes>"
      ]
     },
     "metadata": {
      "needs_background": "light"
     },
     "output_type": "display_data"
    }
   ],
   "source": [
    "# 2\n",
    "_, ax = plt.subplots(ncols=5, figsize=(12,4))\n",
    "for i in range(5):\n",
    "    ax[i].imshow(x.population[i].state)"
   ]
  },
  {
   "cell_type": "code",
   "execution_count": 16,
   "metadata": {},
   "outputs": [
    {
     "data": {
      "text/plain": [
       "array([2803, 2401,  893, 1442, 1092,  843,  718, 2758, 2081, 2385,  402,\n",
       "        147, 2389,  860, 1889,   80, 2316, 3452, 3206, 1164, 3839, 3190,\n",
       "       2965, 1543, 2739,  390, 1466,  298, 2974, 3380, 2906, 3808, 1048,\n",
       "       3788,  389, 2199, 1589, 2990, 3398, 3923, 3620,  710, 2036, 1955,\n",
       "        613, 3805, 3810, 1371, 3392, 2010,  802, 1963, 2821, 1966,  476,\n",
       "       3182,  774,  535, 1416, 2130,  156,  627,  233, 1785, 2248,  297,\n",
       "        111, 1338, 2496, 1637, 1724, 1318, 2559, 2806, 1287, 1316, 3921,\n",
       "       2283, 1488, 3380, 3867,   54,  578,  965, 3279, 2823, 1055, 3000,\n",
       "       3102,  688, 1983, 3727,   50, 3441, 1799,  836, 3907, 3873,  234,\n",
       "       2713])"
      ]
     },
     "metadata": {},
     "output_type": "display_data"
    },
    {
     "data": {
      "text/plain": [
       "array([[2803, 2401],\n",
       "       [ 893, 1442],\n",
       "       [1092,  843],\n",
       "       [ 718, 2758],\n",
       "       [2081, 2385],\n",
       "       [ 402,  147],\n",
       "       [2389,  860],\n",
       "       [1889,   80],\n",
       "       [2316, 3452],\n",
       "       [3206, 1164],\n",
       "       [3839, 3190],\n",
       "       [2965, 1543],\n",
       "       [2739,  390],\n",
       "       [1466,  298],\n",
       "       [2974, 3380],\n",
       "       [2906, 3808],\n",
       "       [1048, 3788],\n",
       "       [ 389, 2199],\n",
       "       [1589, 2990],\n",
       "       [3398, 3923],\n",
       "       [3620,  710],\n",
       "       [2036, 1955],\n",
       "       [ 613, 3805],\n",
       "       [3810, 1371],\n",
       "       [3392, 2010],\n",
       "       [ 802, 1963],\n",
       "       [2821, 1966],\n",
       "       [ 476, 3182],\n",
       "       [ 774,  535],\n",
       "       [1416, 2130],\n",
       "       [ 156,  627],\n",
       "       [ 233, 1785],\n",
       "       [2248,  297],\n",
       "       [ 111, 1338],\n",
       "       [2496, 1637],\n",
       "       [1724, 1318],\n",
       "       [2559, 2806],\n",
       "       [1287, 1316],\n",
       "       [3921, 2283],\n",
       "       [1488, 3380],\n",
       "       [3867,   54],\n",
       "       [ 578,  965],\n",
       "       [3279, 2823],\n",
       "       [1055, 3000],\n",
       "       [3102,  688],\n",
       "       [1983, 3727],\n",
       "       [  50, 3441],\n",
       "       [1799,  836],\n",
       "       [3907, 3873],\n",
       "       [ 234, 2713]])"
      ]
     },
     "metadata": {},
     "output_type": "display_data"
    },
    {
     "data": {
      "text/plain": [
       "(100,)"
      ]
     },
     "execution_count": 16,
     "metadata": {},
     "output_type": "execute_result"
    }
   ],
   "source": [
    "display(x.population[0].genes)\n",
    "display(x.population[0].get_tuples())\n",
    "x.population[0].genes.shape"
   ]
  },
  {
   "cell_type": "code",
   "execution_count": 17,
   "metadata": {},
   "outputs": [
    {
     "data": {
      "text/plain": [
       "array([514.78861267, 512.48519623, 511.57502426])"
      ]
     },
     "execution_count": 17,
     "metadata": {},
     "output_type": "execute_result"
    }
   ],
   "source": [
    "x.calc_fitnesses()"
   ]
  },
  {
   "cell_type": "code",
   "execution_count": 18,
   "metadata": {},
   "outputs": [
    {
     "data": {
      "text/plain": [
       "array([514.78861267, 512.48519623, 511.57502426])"
      ]
     },
     "execution_count": 18,
     "metadata": {},
     "output_type": "execute_result"
    }
   ],
   "source": [
    "x.get_fitnesses()"
   ]
  }
 ],
 "metadata": {
  "kernelspec": {
   "display_name": "Python 3",
   "language": "python",
   "name": "python3"
  },
  "language_info": {
   "codemirror_mode": {
    "name": "ipython",
    "version": 3
   },
   "file_extension": ".py",
   "mimetype": "text/x-python",
   "name": "python",
   "nbconvert_exporter": "python",
   "pygments_lexer": "ipython3",
   "version": "3.7.7"
  }
 },
 "nbformat": 4,
 "nbformat_minor": 4
}
