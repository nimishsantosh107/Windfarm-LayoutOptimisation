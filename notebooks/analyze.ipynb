{
 "cells": [
  {
   "cell_type": "code",
   "execution_count": 357,
   "metadata": {},
   "outputs": [],
   "source": [
    "import sys\n",
    "sys.path.insert(1, '../evaluator')\n",
    "\n",
    "import gc\n",
    "import itertools\n",
    "import random as rndm\n",
    "import numpy as np\n",
    "import matplotlib.pyplot as plt\n",
    "from skimage import draw\n",
    "from evaluator import *\n",
    "from concurrent.futures import ProcessPoolExecutor, ThreadPoolExecutor\n",
    "\n",
    "%matplotlib inline"
   ]
  },
  {
   "cell_type": "code",
   "execution_count": 358,
   "metadata": {},
   "outputs": [],
   "source": [
    "'''\n",
    "evaluator.py\n",
    "IMPORTS:\n",
    "\n",
    "getTurbLoc(TURB_LOC_file_name)\n",
    "\n",
    "loadPowerCurve(POWER_CURVE_file_name)\n",
    "\n",
    "binWindResourceData(WIND_DATA_file_name)\n",
    "\n",
    "searchSorted(lookup, sample_array)\n",
    "\n",
    "preProcessing(POWER_CURVE)\n",
    "\n",
    "getAEP(TURB_DIAM, turb_coords, POWER_CURVE, WIND_INST_FREQ,\n",
    "       N_WIND_INSTANCES, COS_DIR, SIN_DIR, WIND_SPEED_STACKED, C_t)\n",
    "       \n",
    "checkConstraints(turb_coords, TURB_DIAM)\n",
    "\n",
    "'''\n",
    "\n",
    "# Turbine Specifications.\n",
    "# -**-SHOULD NOT BE MODIFIED-**-\n",
    "TURB_SPECS    =  {\n",
    "                     'Name': 'Anon Name',\n",
    "                     'Vendor': 'Anon Vendor',\n",
    "                     'Type': 'Anon Type',\n",
    "                     'Dia (m)': 100,\n",
    "                     'Rotor Area (m2)': 7853,\n",
    "                     'Hub Height (m)': 100,\n",
    "                     'Cut-in Wind Speed (m/s)': 3.5,\n",
    "                     'Cut-out Wind Speed (m/s)': 25,\n",
    "                     'Rated Wind Speed (m/s)': 15,\n",
    "                     'Rated Power (MW)': 3\n",
    "                 }\n",
    "TURB_DIAM      =  TURB_SPECS['Dia (m)']\n",
    "TURB_DIAM       =  TURB_DIAM/2\n",
    "\n",
    "# Load the power curve\n",
    "POWER_CURVE   =  loadPowerCurve('./../evaluator/power_curve.csv')\n",
    "\n",
    "# Pass wind data csv file location to function binWindResourceData.\n",
    "# Retrieve probabilities of wind instance occurence.\n",
    "WIND_INST_FREQ =  binWindResourceData('./../evaluator/wind_data/wind_data_2007.csv')\n",
    "\n",
    "# Doing preprocessing to avoid the same repeating calculations. Record\n",
    "# the required data for calculations. Do that once. Data are set up (shaped)\n",
    "# to assist vectorization. Used later in function totalAEP.\n",
    "N_WIND_INSTANCES, COS_DIR, SIN_DIR, WIND_SPEED_STACKED, C_t = preProcessing(POWER_CURVE)\n",
    "\n",
    "# check if there is any constraint is violated before we do anything. \n",
    "def evalPrint(turbine_coordinates):\n",
    "    checkConstraints(turbine_coordinates, TURB_DIAM)\n",
    "    \n",
    "    print('[INFO] Calculating AEP')\n",
    "    AEP = getAEP(TURB_DIAM, turbine_coordinates, POWER_CURVE, WIND_INST_FREQ,\n",
    "                 N_WIND_INSTANCES, COS_DIR, SIN_DIR, WIND_SPEED_STACKED, C_t)\n",
    "    print('[INFO] Power produced : ', \"%.12f\"%(AEP), 'GWh')\n",
    "    \n",
    "    \n",
    "def create_submission_df(coordinates):\n",
    "    df = pd.DataFrame(coordinates, columns =['x', 'y'])\n",
    "    df.to_csv('submission.csv', index=False)\n",
    "    \n",
    "# TEST VALUES\n",
    "# Turbine x,y coordinates\n",
    "TEST_COORDS   =  getTurbLoc(r'./../test_locations.csv')"
   ]
  },
  {
   "cell_type": "code",
   "execution_count": 359,
   "metadata": {},
   "outputs": [
    {
     "name": "stdout",
     "output_type": "stream",
     "text": [
      "[SUCCESS] perimeter and proximity constraints - SATISFIED\n",
      "--------######---------\n",
      "[SUCCESS] perimeter and proximity constraints - SATISFIED\n",
      "[INFO] Calculating AEP\n",
      "[INFO] Power produced :  505.450636596680 GWh\n",
      "\n",
      "CPU times: user 145 ms, sys: 13 ms, total: 158 ms\n",
      "Wall time: 166 ms\n"
     ]
    }
   ],
   "source": [
    "%%time\n",
    "# SELF TEST\n",
    "_ = checkConstraints(TEST_COORDS, TURB_DIAM)\n",
    "print(\"--------######---------\")\n",
    "evalPrint(TEST_COORDS)\n",
    "print()"
   ]
  },
  {
   "cell_type": "markdown",
   "metadata": {},
   "source": [
    "## Classes"
   ]
  },
  {
   "cell_type": "code",
   "execution_count": 360,
   "metadata": {},
   "outputs": [],
   "source": [
    "class DNA:\n",
    "    ###########################################\n",
    "    def __init__(self):\n",
    "        self.fitness = 0\n",
    "        self.genes, self.state = self.generate_init_state()\n",
    "       \n",
    "\n",
    "    ###########################################\n",
    "    # GENERATE SET OF VALID GENES\n",
    "    def generate_init_state(self):\n",
    "        state = np.zeros((3900, 3900)).astype(np.int8)\n",
    "        coordinates = np.array([], dtype=np.int64).reshape(0,2)\n",
    "\n",
    "        count_placed = 0\n",
    "        while(count_placed < 50):\n",
    "            free_coordinates = np.where(state == 0)\n",
    "            if(len(free_coordinates[0]) == 0): \n",
    "                return -1\n",
    "\n",
    "            free_coordinates = np.stack([*free_coordinates]).transpose()\n",
    "            chosen_coordinate = rndm.choice(free_coordinates)\n",
    "            \n",
    "            r, c = draw.circle(chosen_coordinate[0], chosen_coordinate[1], radius=400, shape=state.shape)\n",
    "            state[r, c] = 1\n",
    "            r, c = draw.circle(chosen_coordinate[0], chosen_coordinate[1], radius=50, shape=state.shape)\n",
    "            state[r, c] = 2\n",
    "\n",
    "            coordinates = np.concatenate([coordinates, chosen_coordinate.reshape(1,2)], axis=0)\n",
    "            count_placed += 1\n",
    "\n",
    "        coordinates = coordinates + 50\n",
    "        coordinates = coordinates[np.lexsort((coordinates[:,1],coordinates[:,0]))]\n",
    "        \n",
    "        return (coordinates.flatten(),  np.pad(state, 50))\n",
    "\n",
    "    # UPDATE CURRENT STATE\n",
    "    def update_current_state(self):\n",
    "        coordinates = self.get_tuples()\n",
    "        state = np.zeros((4000, 4000)).astype(np.int8)\n",
    "        for coord in coordinates:\n",
    "            r, c = draw.circle(coord[0], coord[1], radius=400, shape=state.shape)\n",
    "            state[r, c] = 1\n",
    "            r, c = draw.circle(coord[0], coord[1], radius=50, shape=state.shape)\n",
    "            state[r, c] = 2\n",
    "        self.state = state\n",
    "        \n",
    "    \n",
    "    ###########################################\n",
    "    # CALC & STORE FITNESS\n",
    "    def calc_fitness(self):\n",
    "        if(checkConstraints_F(self.get_tuples(), TURB_DIAM) == -1):\n",
    "            return 450\n",
    "        self.fitness = getAEP(TURB_DIAM, self.get_tuples(), POWER_CURVE, WIND_INST_FREQ, \n",
    "                              N_WIND_INSTANCES,COS_DIR, SIN_DIR, WIND_SPEED_STACKED, C_t)\n",
    "        return self.fitness\n",
    "    \n",
    "    \n",
    "    ###########################################\n",
    "    # GET DNA AS TUPLE OF COORDINATES (IF FLATTENED)\n",
    "    def get_tuples(self):\n",
    "        return np.reshape(self.genes, newshape=(50,2))\n",
    "    \n",
    "    def __getitem__(self, index):\n",
    "        print(\"[ERR] USE d.genes[i]\")"
   ]
  },
  {
   "cell_type": "code",
   "execution_count": 363,
   "metadata": {},
   "outputs": [],
   "source": [
    "class Population:\n",
    "    ###########################################\n",
    "    def __init__(self, population_size, mutation_rate):\n",
    "        self.best_DNA = None\n",
    "        self.max_fitness = 0\n",
    "        self.gen_min_fitness = 0\n",
    "        self.population_fitnesses = None\n",
    "        self.generations = 0\n",
    "        \n",
    "        self.population_size = population_size\n",
    "        self.mutation_rate = mutation_rate\n",
    "\n",
    "        # Multithreaded population init\n",
    "        processes = []\n",
    "        with ProcessPoolExecutor(max_workers=4) as executor:\n",
    "            for _ in range(self.population_size): \n",
    "                processes.append(executor.submit(DNA))\n",
    "        self.population = np.array([processes[i].result() for i in range(self.population_size)])\n",
    "        self.next_population = None\n",
    "    \n",
    "    \n",
    "    ###########################################\n",
    "    # CALC & GET FITNESS   \n",
    "    def calc_fitnesses(self):\n",
    "        fitnesses = np.array([self.population[i].calc_fitness() for i in range(self.population_size)])\n",
    "        self.gen_min_fitness = np.min(fitnesses)\n",
    "        max_index = np.argmax(fitnesses)\n",
    "        if(fitnesses[max_index] > self.max_fitness):\n",
    "            self.best_DNA = self.population[max_index]\n",
    "            self.max_fitness = fitnesses[max_index]\n",
    "        self.population_fitnesses = fitnesses\n",
    "        return fitnesses\n",
    "        \n",
    "    def get_fitnesses(self):\n",
    "        return np.array([self.population[i].fitness for i in range(self.population_size)])\n",
    "    \n",
    "    \n",
    "    #############################################\n",
    "    # NATURAL SELECTION   \n",
    "    def create_crossover(self):\n",
    "        weights = (self.population_fitnesses - self.gen_min_fitness) / (self.max_fitness - self.gen_min_fitness)\n",
    "        new_population = self.population\n",
    "        for i in range(50):\n",
    "            parents = rndm.choices(self.population, weights=weights, k=2)\n",
    "            # Do crossover mixup\n",
    "            # modify i'th DNA in new_poplation[i].genes\n",
    "            # Try parallelisation\n",
    "        # set self.new_population = new_population\n",
    "        return weights\n",
    "        \n",
    "    def create_mutation(self):\n",
    "        #mutate self.new_population with mutation_rate\n",
    "        pass\n",
    "            \n",
    "    #############################################\n",
    "    # GET DNAs            \n",
    "    def get_population_coordinates(self):\n",
    "        return np.array([self.population[i].get_tuples() for i in range(self.population_size)])\n",
    "        \n",
    "    def __getitem__(self, index):\n",
    "        return self.population[index]"
   ]
  },
  {
   "cell_type": "markdown",
   "metadata": {},
   "source": [
    "# Main"
   ]
  },
  {
   "cell_type": "code",
   "execution_count": 364,
   "metadata": {},
   "outputs": [
    {
     "name": "stdout",
     "output_type": "stream",
     "text": [
      "CPU times: user 42.2 ms, sys: 77.8 ms, total: 120 ms\n",
      "Wall time: 13.4 s\n"
     ]
    }
   ],
   "source": [
    "%%time\n",
    "# 1\n",
    "# MULTITHREAD\n",
    "x = Population(2, 0.1)"
   ]
  },
  {
   "cell_type": "code",
   "execution_count": 365,
   "metadata": {},
   "outputs": [
    {
     "data": {
      "image/png": "[encoded data removed]",
      "text/plain": [
       "<Figure size 864x288 with 2 Axes>"
      ]
     },
     "metadata": {
      "needs_background": "light"
     },
     "output_type": "display_data"
    }
   ],
   "source": [
    "# 1\n",
    "_, ax = plt.subplots(ncols=2, figsize=(12,4))\n",
    "for i in range(2):\n",
    "    ax[i].imshow(x.population[i].state)"
   ]
  },
  {
   "cell_type": "code",
   "execution_count": 366,
   "metadata": {},
   "outputs": [
    {
     "data": {
      "text/plain": [
       "array([  99, 3174,  118, 2181,  146,  413,  249, 1479,  440, 1877,  461,\n",
       "       2850,  551, 3816,  612,  831,  654, 1395,  790, 2229,  918, 2621,\n",
       "        950, 1768,  995, 1045,  997, 3558, 1075, 3154, 1127,  326, 1222,\n",
       "       1400, 1288, 2002, 1460, 3888, 1615, 1209, 1634, 2383, 1703,  554,\n",
       "       1818, 2895, 1825, 3380, 1887,  165, 2017, 2157, 2093, 1084, 2122,\n",
       "       3922, 2130,  528, 2136, 1770, 2191, 2550, 2287, 3266, 2442, 2207,\n",
       "       2585, 3596, 2700, 2970, 2768,  395, 2804, 1847, 2877, 2388, 2935,\n",
       "       1039, 2972, 3270, 3029, 3782, 3139, 2802, 3299, 1352, 3317, 2205,\n",
       "       3421,  768, 3545,  171, 3648, 3447, 3753, 2632, 3778, 1980, 3893,\n",
       "        414])"
      ]
     },
     "metadata": {},
     "output_type": "display_data"
    },
    {
     "data": {
      "text/plain": [
       "(100,)"
      ]
     },
     "metadata": {},
     "output_type": "display_data"
    }
   ],
   "source": [
    "display(x.population[0].genes)\n",
    "# display(x.population[0].get_tuples())\n",
    "display(x.population[0].genes.shape)"
   ]
  },
  {
   "cell_type": "code",
   "execution_count": 367,
   "metadata": {},
   "outputs": [
    {
     "name": "stdout",
     "output_type": "stream",
     "text": [
      "CPU times: user 167 ms, sys: 24.6 ms, total: 192 ms\n",
      "Wall time: 201 ms\n"
     ]
    },
    {
     "data": {
      "text/plain": [
       "array([508.07649124, 511.58057144])"
      ]
     },
     "execution_count": 367,
     "metadata": {},
     "output_type": "execute_result"
    }
   ],
   "source": [
    "%%time\n",
    "x.calc_fitnesses()"
   ]
  },
  {
   "cell_type": "code",
   "execution_count": 368,
   "metadata": {},
   "outputs": [
    {
     "data": {
      "text/plain": [
       "array([0., 1.])"
      ]
     },
     "execution_count": 368,
     "metadata": {},
     "output_type": "execute_result"
    }
   ],
   "source": [
    "x.create_crossover()"
   ]
  }
 ],
 "metadata": {
  "kernelspec": {
   "display_name": "Python 3",
   "language": "python",
   "name": "python3"
  },
  "language_info": {
   "codemirror_mode": {
    "name": "ipython",
    "version": 3
   },
   "file_extension": ".py",
   "mimetype": "text/x-python",
   "name": "python",
   "nbconvert_exporter": "python",
   "pygments_lexer": "ipython3",
   "version": "3.7.7"
  }
 },
 "nbformat": 4,
 "nbformat_minor": 4
}
