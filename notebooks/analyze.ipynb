{
 "cells": [
  {
   "cell_type": "code",
   "execution_count": 2,
   "metadata": {},
   "outputs": [],
   "source": [
    "import sys\n",
    "sys.path.insert(1, '../evaluator')\n",
    "\n",
    "import gc\n",
    "import copy\n",
    "import itertools\n",
    "import random as rndm\n",
    "import numpy as np\n",
    "import matplotlib.pyplot as plt\n",
    "from skimage import draw\n",
    "from evaluator import *\n",
    "from concurrent.futures import ProcessPoolExecutor, ThreadPoolExecutor\n",
    "\n",
    "%matplotlib inline"
   ]
  },
  {
   "cell_type": "code",
   "execution_count": 3,
   "metadata": {},
   "outputs": [],
   "source": [
    "'''\n",
    "evaluator.py\n",
    "IMPORTS:\n",
    "\n",
    "getTurbLoc(TURB_LOC_file_name)\n",
    "\n",
    "loadPowerCurve(POWER_CURVE_file_name)\n",
    "\n",
    "binWindResourceData(WIND_DATA_file_name)\n",
    "\n",
    "searchSorted(lookup, sample_array)\n",
    "\n",
    "preProcessing(POWER_CURVE)\n",
    "\n",
    "getAEP(TURB_DIAM, turb_coords, POWER_CURVE, WIND_INST_FREQ,\n",
    "       N_WIND_INSTANCES, COS_DIR, SIN_DIR, WIND_SPEED_STACKED, C_t)\n",
    "       \n",
    "checkConstraints(turb_coords, TURB_DIAM)\n",
    "\n",
    "'''\n",
    "\n",
    "# Turbine Specifications.\n",
    "# -**-SHOULD NOT BE MODIFIED-**-\n",
    "TURB_SPECS    =  {\n",
    "                     'Name': 'Anon Name',\n",
    "                     'Vendor': 'Anon Vendor',\n",
    "                     'Type': 'Anon Type',\n",
    "                     'Dia (m)': 100,\n",
    "                     'Rotor Area (m2)': 7853,\n",
    "                     'Hub Height (m)': 100,\n",
    "                     'Cut-in Wind Speed (m/s)': 3.5,\n",
    "                     'Cut-out Wind Speed (m/s)': 25,\n",
    "                     'Rated Wind Speed (m/s)': 15,\n",
    "                     'Rated Power (MW)': 3\n",
    "                 }\n",
    "TURB_DIAM      =  TURB_SPECS['Dia (m)']\n",
    "TURB_DIAM       =  TURB_DIAM/2\n",
    "\n",
    "# Load the power curve\n",
    "POWER_CURVE   =  loadPowerCurve('./../evaluator/power_curve.csv')\n",
    "\n",
    "# Pass wind data csv file location to function binWindResourceData.\n",
    "# Retrieve probabilities of wind instance occurence.\n",
    "WIND_INST_FREQ =  binWindResourceData('./../evaluator/wind_data/wind_data_2007.csv')\n",
    "\n",
    "# Doing preprocessing to avoid the same repeating calculations. Record\n",
    "# the required data for calculations. Do that once. Data are set up (shaped)\n",
    "# to assist vectorization. Used later in function totalAEP.\n",
    "N_WIND_INSTANCES, COS_DIR, SIN_DIR, WIND_SPEED_STACKED, C_t = preProcessing(POWER_CURVE)\n",
    "\n",
    "# check if there is any constraint is violated before we do anything. \n",
    "def evalPrint(turbine_coordinates):\n",
    "    checkConstraints(turbine_coordinates, TURB_DIAM)\n",
    "    \n",
    "    print('[INFO] Calculating AEP')\n",
    "    AEP = getAEP(TURB_DIAM, turbine_coordinates, POWER_CURVE, WIND_INST_FREQ,\n",
    "                 N_WIND_INSTANCES, COS_DIR, SIN_DIR, WIND_SPEED_STACKED, C_t)\n",
    "    print('[INFO] Power produced : ', \"%.12f\"%(AEP), 'GWh')\n",
    "    \n",
    "    \n",
    "def create_submission_df(coordinates):\n",
    "    df = pd.DataFrame(coordinates, columns =['x', 'y'])\n",
    "    df.to_csv('submission.csv', index=False)\n",
    "    \n",
    "# TEST VALUES\n",
    "# Turbine x,y coordinates\n",
    "TEST_COORDS   =  getTurbLoc(r'./../test_locations.csv')"
   ]
  },
  {
   "cell_type": "code",
   "execution_count": 4,
   "metadata": {},
   "outputs": [
    {
     "name": "stdout",
     "output_type": "stream",
     "text": [
      "[SUCCESS] perimeter and proximity constraints - SATISFIED\n",
      "--------######---------\n",
      "[SUCCESS] perimeter and proximity constraints - SATISFIED\n",
      "[INFO] Calculating AEP\n",
      "[INFO] Power produced :  505.450636596680 GWh\n",
      "\n",
      "CPU times: user 133 ms, sys: 17.6 ms, total: 151 ms\n",
      "Wall time: 182 ms\n"
     ]
    }
   ],
   "source": [
    "%%time\n",
    "# SELF TEST\n",
    "_ = checkConstraints(TEST_COORDS, TURB_DIAM)\n",
    "print(\"--------######---------\")\n",
    "evalPrint(TEST_COORDS)\n",
    "print()"
   ]
  },
  {
   "cell_type": "markdown",
   "metadata": {},
   "source": [
    "## Classes"
   ]
  },
  {
   "cell_type": "code",
   "execution_count": 5,
   "metadata": {},
   "outputs": [],
   "source": [
    "class DNA:\n",
    "    ###########################################\n",
    "    def __init__(self):\n",
    "        self.fitness = 0\n",
    "        self.genes, self.state = self.generate_init_state()\n",
    "       \n",
    "\n",
    "    ###########################################\n",
    "    # GENERATE SET OF VALID GENES\n",
    "    def generate_init_state(self):\n",
    "        state = np.zeros((3900, 3900)).astype(np.int8)\n",
    "        coordinates = np.array([], dtype=np.int64).reshape(0,2)\n",
    "\n",
    "        count_placed = 0\n",
    "        while(count_placed < 50):\n",
    "            free_coordinates = np.where(state == 0)\n",
    "            if(len(free_coordinates[0]) == 0): \n",
    "                return -1\n",
    "\n",
    "            free_coordinates = np.stack([*free_coordinates]).transpose()\n",
    "            chosen_coordinate = rndm.choice(free_coordinates)\n",
    "            \n",
    "            r, c = draw.circle(chosen_coordinate[0], chosen_coordinate[1], radius=400, shape=state.shape)\n",
    "            state[r, c] = 1\n",
    "            r, c = draw.circle(chosen_coordinate[0], chosen_coordinate[1], radius=50, shape=state.shape)\n",
    "            state[r, c] = 2\n",
    "\n",
    "            coordinates = np.concatenate([coordinates, chosen_coordinate.reshape(1,2)], axis=0)\n",
    "            count_placed += 1\n",
    "\n",
    "        coordinates = coordinates + 50\n",
    "        coordinates = coordinates[np.lexsort((coordinates[:,1],coordinates[:,0]))]\n",
    "        \n",
    "        return (coordinates.flatten(),  np.pad(state, 50))\n",
    "\n",
    "    # UPDATE CURRENT STATE\n",
    "    def update_current_state(self):\n",
    "        coordinates = self.get_tuples()\n",
    "        state = np.zeros((4000, 4000)).astype(np.int8)\n",
    "        for coord in coordinates:\n",
    "            r, c = draw.circle(coord[0], coord[1], radius=400, shape=state.shape)\n",
    "            state[r, c] = 1\n",
    "            r, c = draw.circle(coord[0], coord[1], radius=50, shape=state.shape)\n",
    "            state[r, c] = 2\n",
    "        self.state = state\n",
    "        \n",
    "    \n",
    "    ###########################################\n",
    "    # CALC & STORE FITNESS\n",
    "    def calc_fitness(self):\n",
    "        if(checkConstraints_F(self.get_tuples(), TURB_DIAM) == -1):\n",
    "            return 450\n",
    "        self.fitness = getAEP(TURB_DIAM, self.get_tuples(), POWER_CURVE, WIND_INST_FREQ, \n",
    "                              N_WIND_INSTANCES,COS_DIR, SIN_DIR, WIND_SPEED_STACKED, C_t)\n",
    "        return self.fitness\n",
    "    \n",
    "    \n",
    "    ###########################################\n",
    "    # GET DNA AS TUPLE OF COORDINATES (IF FLATTENED)\n",
    "    def get_tuples(self):\n",
    "        return np.reshape(self.genes, newshape=(50,2))\n",
    "    \n",
    "    def __getitem__(self, index):\n",
    "        print(\"[ERR] USE d.genes[i]\")"
   ]
  },
  {
   "cell_type": "code",
   "execution_count": 6,
   "metadata": {},
   "outputs": [],
   "source": [
    "class Population:\n",
    "    ###########################################\n",
    "    def __init__(self, population_size, mutation_rate):\n",
    "        self.best_DNA = None\n",
    "        self.max_fitness = 0\n",
    "        self.gen_min_fitness = 0\n",
    "        self.population_fitnesses = None\n",
    "        self.generations = 0\n",
    "        \n",
    "        self.population_size = population_size\n",
    "        self.mutation_rate = mutation_rate\n",
    "\n",
    "        # Multithreaded population init\n",
    "        processes = []\n",
    "        with ProcessPoolExecutor(max_workers=4) as executor:\n",
    "            for _ in range(self.population_size): \n",
    "                processes.append(executor.submit(DNA))\n",
    "        self.population = np.array([processes[i].result() for i in range(self.population_size)])\n",
    "        self.next_population = None\n",
    "    \n",
    "    \n",
    "    ###########################################\n",
    "    # CALC & GET FITNESS   \n",
    "    def calc_fitnesses(self):\n",
    "        fitnesses = np.array([self.population[i].calc_fitness() for i in range(self.population_size)])\n",
    "        self.gen_min_fitness = np.min(fitnesses)\n",
    "        max_index = np.argmax(fitnesses)\n",
    "        if(fitnesses[max_index] > self.max_fitness):\n",
    "            self.best_DNA = self.population[max_index]\n",
    "            self.max_fitness = fitnesses[max_index]\n",
    "        self.population_fitnesses = fitnesses\n",
    "        return fitnesses\n",
    "        \n",
    "    def get_fitnesses(self):\n",
    "        return np.array([self.population[i].fitness for i in range(self.population_size)])\n",
    "    \n",
    "    \n",
    "    #############################################\n",
    "    # NATURAL SELECTION   \n",
    "    def create_crossover(self):\n",
    "        weights = (self.population_fitnesses - self.gen_min_fitness) / (self.max_fitness - self.gen_min_fitness)\n",
    "        new_population = copy.deepcopy(self.population)\n",
    "        for i in range(self.population_size):\n",
    "            cur_genes = []\n",
    "            parents = rndm.choices(self.population, weights=weights, k=2)\n",
    "            for j in range(100):\n",
    "                if(rndm.uniform(0,1) > 0.5):\n",
    "                    cur_genes.append(parents[0].genes[j])\n",
    "                else:\n",
    "                    cur_genes.append(parents[1].genes[j])\n",
    "            new_population[i].genes = np.array(cur_genes)\n",
    "        self.next_population = new_population\n",
    "        \n",
    "    def create_mutation(self):\n",
    "        #mutate self.new_population with mutation_rate\n",
    "        pass\n",
    "            \n",
    "    #############################################\n",
    "    # GET DNAs            \n",
    "    def get_population_coordinates(self):\n",
    "        return np.array([self.population[i].get_tuples() for i in range(self.population_size)])\n",
    "        \n",
    "    def __getitem__(self, index):\n",
    "        return self.population[index]"
   ]
  },
  {
   "cell_type": "markdown",
   "metadata": {},
   "source": [
    "## Main"
   ]
  },
  {
   "cell_type": "code",
   "execution_count": 7,
   "metadata": {},
   "outputs": [
    {
     "name": "stdout",
     "output_type": "stream",
     "text": [
      "CPU times: user 109 ms, sys: 216 ms, total: 324 ms\n",
      "Wall time: 32.1 s\n"
     ]
    }
   ],
   "source": [
    "%%time\n",
    "# 1\n",
    "# MULTITHREAD\n",
    "x = Population(5, 0.1)"
   ]
  },
  {
   "cell_type": "code",
   "execution_count": 8,
   "metadata": {},
   "outputs": [
    {
     "data": {
      "image/png": "[encoded data removed]",
      "text/plain": [
       "<Figure size 864x288 with 2 Axes>"
      ]
     },
     "metadata": {
      "needs_background": "light"
     },
     "output_type": "display_data"
    }
   ],
   "source": [
    "# 1\n",
    "_, ax = plt.subplots(ncols=2, figsize=(12,4))\n",
    "for i in range(2):\n",
    "    ax[i].imshow(x.population[i].state)"
   ]
  },
  {
   "cell_type": "code",
   "execution_count": 9,
   "metadata": {},
   "outputs": [
    {
     "data": {
      "text/plain": [
       "array([ 103,  673,  127, 3160,  153, 1951,  275, 1272,  379, 3772,  424,\n",
       "       2345,  432,  381,  670, 2870,  718, 1115,  770, 1623,  833, 3821,\n",
       "        908,  486, 1093, 2796, 1147,  984, 1149, 3274, 1240, 2143, 1406,\n",
       "       1442, 1414,  531, 1578, 2694, 1672, 2275, 1675, 3642, 1735,  845,\n",
       "       2007, 1426, 2012,  373, 2078, 2520, 2080, 3706, 2142, 1830, 2330,\n",
       "       2997, 2417,  727, 2434,  161, 2531, 3575, 2642, 1987, 2807, 2699,\n",
       "       2892,  283, 2950, 3393, 3008, 3921, 3045,  826, 3143, 1398, 3166,\n",
       "       2927, 3248, 2235, 3272,  459, 3434, 3559, 3437, 1870, 3538, 2730,\n",
       "       3615,  971, 3734, 2349, 3797, 3938, 3839, 1316, 3855,  336, 3872,\n",
       "       1795])"
      ]
     },
     "metadata": {},
     "output_type": "display_data"
    },
    {
     "data": {
      "text/plain": [
       "(100,)"
      ]
     },
     "metadata": {},
     "output_type": "display_data"
    }
   ],
   "source": [
    "display(x.population[0].genes)\n",
    "# display(x.population[0].get_tuples())\n",
    "display(x.population[0].genes.shape)"
   ]
  },
  {
   "cell_type": "code",
   "execution_count": 31,
   "metadata": {},
   "outputs": [
    {
     "name": "stdout",
     "output_type": "stream",
     "text": [
      "CPU times: user 407 ms, sys: 24.5 ms, total: 431 ms\n",
      "Wall time: 539 ms\n"
     ]
    },
    {
     "data": {
      "text/plain": [
       "array([512.3177449 , 512.09458786, 510.0646875 , 512.58638214,\n",
       "       508.56430893])"
      ]
     },
     "execution_count": 31,
     "metadata": {},
     "output_type": "execute_result"
    }
   ],
   "source": [
    "%%time\n",
    "x.calc_fitnesses()"
   ]
  },
  {
   "cell_type": "code",
   "execution_count": 34,
   "metadata": {},
   "outputs": [
    {
     "name": "stdout",
     "output_type": "stream",
     "text": [
      "CPU times: user 21.7 ms, sys: 6.57 ms, total: 28.3 ms\n",
      "Wall time: 27.7 ms\n"
     ]
    }
   ],
   "source": [
    "%%time\n",
    "x.create_crossover()"
   ]
  },
  {
   "cell_type": "code",
   "execution_count": 35,
   "metadata": {},
   "outputs": [
    {
     "name": "stdout",
     "output_type": "stream",
     "text": [
      "1\n",
      "-1\n",
      "-1\n",
      "1\n",
      "-1\n"
     ]
    }
   ],
   "source": [
    "for i in range(5):\n",
    "    print(checkConstraints_F(x.next_population[i].get_tuples(), TURB_DIAM))"
   ]
  },
  {
   "cell_type": "code",
   "execution_count": 36,
   "metadata": {},
   "outputs": [
    {
     "data": {
      "text/plain": [
       "array([<__main__.DNA object at 0x82237dbd0>,\n",
       "       <__main__.DNA object at 0x82237ded0>,\n",
       "       <__main__.DNA object at 0x821025790>,\n",
       "       <__main__.DNA object at 0x82237da50>,\n",
       "       <__main__.DNA object at 0x82237db10>], dtype=object)"
      ]
     },
     "execution_count": 36,
     "metadata": {},
     "output_type": "execute_result"
    }
   ],
   "source": [
    "x.population"
   ]
  },
  {
   "cell_type": "code",
   "execution_count": 37,
   "metadata": {},
   "outputs": [
    {
     "data": {
      "text/plain": [
       "array([<__main__.DNA object at 0x8215769d0>,\n",
       "       <__main__.DNA object at 0x82158b1d0>,\n",
       "       <__main__.DNA object at 0x8213c4850>,\n",
       "       <__main__.DNA object at 0x821576990>,\n",
       "       <__main__.DNA object at 0x821576e10>], dtype=object)"
      ]
     },
     "execution_count": 37,
     "metadata": {},
     "output_type": "execute_result"
    }
   ],
   "source": [
    "x.next_population"
   ]
  }
 ],
 "metadata": {
  "kernelspec": {
   "display_name": "Python 3",
   "language": "python",
   "name": "python3"
  },
  "language_info": {
   "codemirror_mode": {
    "name": "ipython",
    "version": 3
   },
   "file_extension": ".py",
   "mimetype": "text/x-python",
   "name": "python",
   "nbconvert_exporter": "python",
   "pygments_lexer": "ipython3",
   "version": "3.7.7"
  }
 },
 "nbformat": 4,
 "nbformat_minor": 4
}
