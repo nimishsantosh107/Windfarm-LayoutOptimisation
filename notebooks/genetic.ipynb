{
 "cells": [
  {
   "cell_type": "code",
   "execution_count": 1,
   "metadata": {},
   "outputs": [],
   "source": [
    "import sys\n",
    "sys.path.insert(1, '../evaluator')\n",
    "\n",
    "import gc\n",
    "import copy\n",
    "import itertools\n",
    "import random as rndm\n",
    "import numpy as np\n",
    "import matplotlib.pyplot as plt\n",
    "from skimage import draw\n",
    "from evaluator import *\n",
    "from concurrent.futures import ProcessPoolExecutor, ThreadPoolExecutor\n",
    "\n",
    "%matplotlib inline"
   ]
  },
  {
   "cell_type": "code",
   "execution_count": 2,
   "metadata": {},
   "outputs": [],
   "source": [
    "'''\n",
    "evaluator.py\n",
    "IMPORTS:\n",
    "\n",
    "getTurbLoc(TURB_LOC_file_name)\n",
    "\n",
    "loadPowerCurve(POWER_CURVE_file_name)\n",
    "\n",
    "binWindResourceData(WIND_DATA_file_name)\n",
    "\n",
    "searchSorted(lookup, sample_array)\n",
    "\n",
    "preProcessing(POWER_CURVE)\n",
    "\n",
    "getAEP(TURB_DIAM, turb_coords, POWER_CURVE, WIND_INST_FREQ,\n",
    "       N_WIND_INSTANCES, COS_DIR, SIN_DIR, WIND_SPEED_STACKED, C_t)\n",
    "       \n",
    "checkConstraints(turb_coords, TURB_DIAM)\n",
    "\n",
    "'''\n",
    "\n",
    "# Turbine Specifications.\n",
    "# -**-SHOULD NOT BE MODIFIED-**-\n",
    "TURB_SPECS    =  {\n",
    "                     'Name': 'Anon Name',\n",
    "                     'Vendor': 'Anon Vendor',\n",
    "                     'Type': 'Anon Type',\n",
    "                     'Dia (m)': 100,\n",
    "                     'Rotor Area (m2)': 7853,\n",
    "                     'Hub Height (m)': 100,\n",
    "                     'Cut-in Wind Speed (m/s)': 3.5,\n",
    "                     'Cut-out Wind Speed (m/s)': 25,\n",
    "                     'Rated Wind Speed (m/s)': 15,\n",
    "                     'Rated Power (MW)': 3\n",
    "                 }\n",
    "TURB_DIAM      =  TURB_SPECS['Dia (m)']\n",
    "TURB_DIAM       =  TURB_DIAM/2\n",
    "\n",
    "# Load the power curve\n",
    "POWER_CURVE   =  loadPowerCurve('./../evaluator/power_curve.csv')\n",
    "\n",
    "# Pass wind data csv file location to function binWindResourceData.\n",
    "# Retrieve probabilities of wind instance occurence.\n",
    "WIND_INST_FREQ =  binWindResourceData('./../evaluator/wind_data/wind_data_2007.csv')\n",
    "\n",
    "# Doing preprocessing to avoid the same repeating calculations. Record\n",
    "# the required data for calculations. Do that once. Data are set up (shaped)\n",
    "# to assist vectorization. Used later in function totalAEP.\n",
    "N_WIND_INSTANCES, COS_DIR, SIN_DIR, WIND_SPEED_STACKED, C_t = preProcessing(POWER_CURVE)\n",
    "\n",
    "# check if there is any constraint is violated before we do anything. \n",
    "def evalPrint(turbine_coordinates):\n",
    "    checkConstraints(turbine_coordinates, TURB_DIAM)\n",
    "    \n",
    "    print('[INFO] Calculating AEP')\n",
    "    AEP = getAEP(TURB_DIAM, turbine_coordinates, POWER_CURVE, WIND_INST_FREQ,\n",
    "                 N_WIND_INSTANCES, COS_DIR, SIN_DIR, WIND_SPEED_STACKED, C_t)\n",
    "    print('[INFO] Power produced : ', \"%.12f\"%(AEP), 'GWh')\n",
    "    \n",
    "    \n",
    "def create_submission_df(coordinates):\n",
    "    df = pd.DataFrame(coordinates, columns =['x', 'y'])\n",
    "    df.to_csv('submission.csv', index=False)\n",
    "    \n",
    "# TEST VALUES\n",
    "# Turbine x,y coordinates\n",
    "TEST_COORDS   =  getTurbLoc(r'./../test_locations.csv')"
   ]
  },
  {
   "cell_type": "code",
   "execution_count": 6,
   "metadata": {},
   "outputs": [
    {
     "name": "stdout",
     "output_type": "stream",
     "text": [
      "[SUCCESS] perimeter and proximity constraints - SATISFIED\n",
      "--------######---------\n",
      "[SUCCESS] perimeter and proximity constraints - SATISFIED\n",
      "[INFO] Calculating AEP\n",
      "[INFO] Power produced :  505.450636596680 GWh\n",
      "\n",
      "CPU times: user 126 ms, sys: 7.28 ms, total: 133 ms\n",
      "Wall time: 134 ms\n"
     ]
    }
   ],
   "source": [
    "%%time\n",
    "# SELF TEST\n",
    "_ = checkConstraints(TEST_COORDS, TURB_DIAM)\n",
    "print(\"--------######---------\")\n",
    "evalPrint(TEST_COORDS)\n",
    "print()"
   ]
  },
  {
   "cell_type": "markdown",
   "metadata": {},
   "source": [
    "## Classes"
   ]
  },
  {
   "cell_type": "code",
   "execution_count": 27,
   "metadata": {},
   "outputs": [],
   "source": [
    "class DNA:\n",
    "    \"\"\"\n",
    "    init\n",
    "    gen_init_state\n",
    "    \n",
    "    LOOP:\n",
    "        calc_fitness\n",
    "        mutate\n",
    "        sort_tuples\n",
    "\n",
    "    FINALLY\n",
    "    update_current_state\n",
    "    \"\"\"\n",
    "    ###########################################\n",
    "    def __init__(self):\n",
    "        self.fitness = 0\n",
    "        self.genes, self.state = self.generate_init_state()\n",
    "       \n",
    "\n",
    "    ###########################################\n",
    "    # GENERATE SET OF VALID GENES\n",
    "    def generate_init_state(self):\n",
    "        state = np.zeros((3900, 3900)).astype(np.int8)\n",
    "        coordinates = np.array([], dtype=np.int64).reshape(0,2)\n",
    "\n",
    "        count_placed = 0\n",
    "        while(count_placed < 50):\n",
    "            free_coordinates = np.where(state == 0)\n",
    "            if(len(free_coordinates[0]) == 0): \n",
    "                return -1\n",
    "\n",
    "            free_coordinates = np.stack([*free_coordinates]).transpose()\n",
    "            chosen_coordinate = rndm.choice(free_coordinates)\n",
    "            \n",
    "            r, c = draw.circle(chosen_coordinate[0], chosen_coordinate[1], radius=400, shape=state.shape)\n",
    "            state[r, c] = 1\n",
    "            r, c = draw.circle(chosen_coordinate[0], chosen_coordinate[1], radius=50, shape=state.shape)\n",
    "            state[r, c] = 2\n",
    "\n",
    "            coordinates = np.concatenate([coordinates, chosen_coordinate.reshape(1,2)], axis=0)\n",
    "            count_placed += 1\n",
    "\n",
    "        coordinates = coordinates + 50\n",
    "        coordinates = coordinates[np.lexsort((coordinates[:,1],coordinates[:,0]))]\n",
    "        \n",
    "        return (coordinates.flatten(),  np.pad(state, 50))\n",
    "\n",
    "    # UPDATE CURRENT STATE\n",
    "    def update_current_state(self):\n",
    "        coordinates = self.get_tuples()\n",
    "        state = np.zeros((4000, 4000)).astype(np.int8)\n",
    "        for coord in coordinates:\n",
    "            r, c = draw.circle(coord[0], coord[1], radius=400, shape=state.shape)\n",
    "            state[r, c] = 1\n",
    "            r, c = draw.circle(coord[0], coord[1], radius=50, shape=state.shape)\n",
    "            state[r, c] = 2\n",
    "        self.state = state\n",
    "    \n",
    "    \n",
    "    ###########################################\n",
    "    # CALC & STORE FITNESS\n",
    "    def calc_fitness(self):\n",
    "        if(checkConstraints_F(self.get_tuples(), TURB_DIAM) == -1):\n",
    "            return 450\n",
    "        self.fitness = getAEP(TURB_DIAM, self.get_tuples(), POWER_CURVE, WIND_INST_FREQ, \n",
    "                              N_WIND_INSTANCES,COS_DIR, SIN_DIR, WIND_SPEED_STACKED, C_t)\n",
    "        return self.fitness\n",
    "    \n",
    "    ###########################################\n",
    "    # MUTATE \n",
    "    def mutate(self, mutation_rate):\n",
    "        for i in range(100):  # 100 genes (if grouped as 50 pairs, use 50)\n",
    "            if(rndm.uniform(0,1) <= mutation_rate):\n",
    "                mutant = rndm.randint(0,60)\n",
    "                if(rndm.uniform(0,1) > 0.5):\n",
    "                    self.genes[i] += mutant\n",
    "                else:\n",
    "                    self.genes[i] -= mutant\n",
    "        return True\n",
    "            \n",
    "\n",
    "    ###########################################\n",
    "    # GET DNA AS TUPLE OF COORDINATES (IF FLATTENED)\n",
    "    def get_tuples(self):\n",
    "        return np.reshape(self.genes, newshape=(50,2))\n",
    "    \n",
    "    def sort_tuples(self):\n",
    "        coordinates = self.get_tuples()\n",
    "        coordinates = coordinates[np.lexsort((coordinates[:,1],coordinates[:,0]))]\n",
    "        self.genes = coordinates.flatten()\n",
    "    \n",
    "    def __getitem__(self, index):\n",
    "        print(\"[ERR] USE d.genes[i]\")"
   ]
  },
  {
   "cell_type": "code",
   "execution_count": 28,
   "metadata": {},
   "outputs": [],
   "source": [
    "class Population:\n",
    "    \"\"\"\n",
    "    init\n",
    "    \n",
    "    LOOP:\n",
    "        calc_fitnesses\n",
    "        create_crossover\n",
    "        create_mutation\n",
    "            (DNA) mutate\n",
    "        create_next_generation\n",
    "            (DNA) sort_tuples\n",
    "            \n",
    "    FINALLY (selected_DNA)\n",
    "    (DNA) update_current_state\n",
    "    \"\"\"\n",
    "    ###########################################\n",
    "    def __init__(self, population_size, mutation_rate):\n",
    "        self.best_DNA = None\n",
    "        self.max_fitness = 0\n",
    "        self.gen_max_fitness = 0\n",
    "        self.gen_min_fitness = 0\n",
    "        self.population_fitnesses = None\n",
    "        self.generations = 0\n",
    "        \n",
    "        self.population_size = population_size\n",
    "        self.mutation_rate = mutation_rate\n",
    "\n",
    "        # Multithreaded population init\n",
    "        processes = []\n",
    "        with ProcessPoolExecutor(max_workers=4) as executor:\n",
    "            for _ in range(self.population_size): \n",
    "                processes.append(executor.submit(DNA))\n",
    "        self.population = np.array([processes[i].result() for i in range(self.population_size)])\n",
    "        self.next_population = None\n",
    "    \n",
    "    \n",
    "    ###########################################\n",
    "    # CALC & GET FITNESS   \n",
    "    def calc_fitnesses(self):\n",
    "        fitnesses = np.array([self.population[i].calc_fitness() for i in range(self.population_size)])\n",
    "        self.population_fitnesses = fitnesses\n",
    "        self.gen_min_fitness = np.min(fitnesses)\n",
    "        max_index = np.argmax(fitnesses)\n",
    "        self.gen_max_fitness = fitnesses[max_index]\n",
    "        if(fitnesses[max_index] > self.max_fitness):\n",
    "            self.best_DNA = self.population[max_index]\n",
    "            self.max_fitness = fitnesses[max_index]\n",
    "        return fitnesses\n",
    "        \n",
    "    def get_fitnesses(self):\n",
    "        return np.array([self.population[i].fitness for i in range(self.population_size)])\n",
    "    \n",
    "    \n",
    "    #############################################\n",
    "    # NATURAL SELECTION   \n",
    "    def create_crossover(self):\n",
    "        weights = (self.population_fitnesses - self.gen_min_fitness) / (self.max_fitness - self.gen_min_fitness)\n",
    "        if(np.sum(weights) == 0):\n",
    "            weights = weights + 1\n",
    "        next_population = copy.deepcopy(self.population)\n",
    "        for i in range(self.population_size):\n",
    "            cur_genes = []\n",
    "            parents = rndm.choices(self.population, weights=weights, k=2)\n",
    "            for j in range(100):  # 100 genes (if grouped as 50 pairs, use 50)\n",
    "                if(rndm.uniform(0,1) > 0.5):\n",
    "                    cur_genes.append(parents[0].genes[j])\n",
    "                else:\n",
    "                    cur_genes.append(parents[1].genes[j])\n",
    "            next_population[i].genes = np.array(cur_genes)\n",
    "        self.next_population = next_population\n",
    "        \n",
    "    # MUTATE GENES\n",
    "    def create_mutation(self):\n",
    "        processes = []\n",
    "        with ProcessPoolExecutor(max_workers=4) as executor:\n",
    "            for i in range(self.population_size):\n",
    "                processes.append(executor.submit(self.next_population[i].mutate, self.mutation_rate))\n",
    "        status = all([processes[i].result() for i in range(self.population_size)])\n",
    "        return status\n",
    "    \n",
    "    # UPDATE GENERATION\n",
    "    def create_next_generation(self):\n",
    "        for i in range(self.population_size):\n",
    "            self.next_population[i].sort_tuples()\n",
    "        self.population = self.next_population\n",
    "        self.generations += 1\n",
    "        \n",
    "\n",
    "    #############################################\n",
    "    # GET DNAs            \n",
    "    def get_population_coordinates(self):\n",
    "        return np.array([self.population[i].get_tuples() for i in range(self.population_size)])\n",
    "        \n",
    "    def __getitem__(self, index):\n",
    "        return self.population[index]"
   ]
  },
  {
   "cell_type": "markdown",
   "metadata": {},
   "source": [
    "## Main"
   ]
  },
  {
   "cell_type": "code",
   "execution_count": 58,
   "metadata": {},
   "outputs": [
    {
     "name": "stdout",
     "output_type": "stream",
     "text": [
      "CPU times: user 109 ms, sys: 224 ms, total: 333 ms\n",
      "Wall time: 32.9 s\n"
     ]
    }
   ],
   "source": [
    "%%time\n",
    "# 1\n",
    "# MULTITHREAD\n",
    "x = Population(5, 0.01)"
   ]
  },
  {
   "cell_type": "code",
   "execution_count": 59,
   "metadata": {},
   "outputs": [
    {
     "data": {
      "image/png": "[encoded data removed]",
      "text/plain": [
       "<Figure size 864x288 with 5 Axes>"
      ]
     },
     "metadata": {
      "needs_background": "light"
     },
     "output_type": "display_data"
    }
   ],
   "source": [
    "# 1\n",
    "_, ax = plt.subplots(ncols=5, figsize=(12,4))\n",
    "for i in range(5):\n",
    "    ax[i].imshow(x.population[i].state)"
   ]
  },
  {
   "cell_type": "code",
   "execution_count": 60,
   "metadata": {},
   "outputs": [
    {
     "data": {
      "text/plain": [
       "array([ 150, 3096,  151, 1217,  173,  739,  253, 3753,  372, 1821,  486,\n",
       "       3333,  509,  392,  697, 2197,  755, 1514,  823, 2599,  947, 3596,\n",
       "        951,  755, 1176,  400, 1253, 1464, 1261, 2111, 1268, 3117, 1398,\n",
       "       1067, 1576, 1717, 1601, 3433, 1658, 3003, 1661, 2509, 1715, 3854,\n",
       "       1718,  559, 1881, 2135, 2107,  674, 2114, 3280, 2119,  170, 2179,\n",
       "       1084, 2334, 1462, 2355, 3883, 2380, 2022, 2396, 2617, 2518, 3091,\n",
       "       2583,  712, 2744,  140, 2758, 3793, 2783, 1772, 2788, 2342, 3110,\n",
       "       1198, 3117,  721, 3203, 3389, 3225,   83, 3253, 1586, 3486, 2804,\n",
       "       3534, 3889, 3539, 1062, 3738,  268, 3775, 1440, 3882, 2604, 3940,\n",
       "       1965])"
      ]
     },
     "metadata": {},
     "output_type": "display_data"
    },
    {
     "data": {
      "text/plain": [
       "(100,)"
      ]
     },
     "metadata": {},
     "output_type": "display_data"
    }
   ],
   "source": [
    "# display(x.population[0].get_tuples())\n",
    "display(x.population[0].genes)\n",
    "display(x.population[0].genes.shape)"
   ]
  },
  {
   "cell_type": "code",
   "execution_count": 61,
   "metadata": {},
   "outputs": [
    {
     "name": "stdout",
     "output_type": "stream",
     "text": [
      "CPU times: user 396 ms, sys: 34.5 ms, total: 431 ms\n",
      "Wall time: 439 ms\n"
     ]
    },
    {
     "data": {
      "text/plain": [
       "array([511.47320343, 510.43167023, 511.99824738, 509.98595764,\n",
       "       511.6303624 ])"
      ]
     },
     "execution_count": 61,
     "metadata": {},
     "output_type": "execute_result"
    }
   ],
   "source": [
    "%%time\n",
    "x.calc_fitnesses()"
   ]
  },
  {
   "cell_type": "code",
   "execution_count": 62,
   "metadata": {},
   "outputs": [
    {
     "name": "stdout",
     "output_type": "stream",
     "text": [
      "CPU times: user 33.3 ms, sys: 30.8 ms, total: 64 ms\n",
      "Wall time: 66.9 ms\n"
     ]
    }
   ],
   "source": [
    "%%time\n",
    "x.create_crossover()"
   ]
  },
  {
   "cell_type": "code",
   "execution_count": 64,
   "metadata": {},
   "outputs": [
    {
     "name": "stdout",
     "output_type": "stream",
     "text": [
      "1\n",
      "-1\n",
      "-1\n",
      "-1\n",
      "-1\n"
     ]
    }
   ],
   "source": [
    "for i in range(5):\n",
    "    print(checkConstraints_F(x.next_population[i].get_tuples(), TURB_DIAM))"
   ]
  },
  {
   "cell_type": "code",
   "execution_count": 65,
   "metadata": {},
   "outputs": [
    {
     "name": "stdout",
     "output_type": "stream",
     "text": [
      "CPU times: user 59.9 ms, sys: 59.3 ms, total: 119 ms\n",
      "Wall time: 297 ms\n"
     ]
    },
    {
     "data": {
      "text/plain": [
       "True"
      ]
     },
     "execution_count": 65,
     "metadata": {},
     "output_type": "execute_result"
    }
   ],
   "source": [
    "%%time\n",
    "x.create_mutation()"
   ]
  },
  {
   "cell_type": "code",
   "execution_count": 66,
   "metadata": {},
   "outputs": [
    {
     "name": "stdout",
     "output_type": "stream",
     "text": [
      "1\n",
      "-1\n",
      "-1\n",
      "-1\n",
      "-1\n"
     ]
    }
   ],
   "source": [
    "for i in range(5):\n",
    "    print(checkConstraints_F(x.next_population[i].get_tuples(), TURB_DIAM))"
   ]
  },
  {
   "cell_type": "code",
   "execution_count": 69,
   "metadata": {},
   "outputs": [],
   "source": [
    "x.create_next_generation()"
   ]
  },
  {
   "cell_type": "code",
   "execution_count": 70,
   "metadata": {},
   "outputs": [
    {
     "name": "stdout",
     "output_type": "stream",
     "text": [
      "1\n",
      "-1\n",
      "-1\n",
      "-1\n",
      "-1\n"
     ]
    }
   ],
   "source": [
    "for i in range(5):\n",
    "    print(checkConstraints_F(x.population[i].get_tuples(), TURB_DIAM))"
   ]
  },
  {
   "cell_type": "code",
   "execution_count": 71,
   "metadata": {},
   "outputs": [
    {
     "data": {
      "text/plain": [
       "array([<__main__.DNA object at 0x8167cd210>,\n",
       "       <__main__.DNA object at 0x8168a80d0>,\n",
       "       <__main__.DNA object at 0x8167bcbd0>,\n",
       "       <__main__.DNA object at 0x825869150>,\n",
       "       <__main__.DNA object at 0x8167cd150>], dtype=object)"
      ]
     },
     "execution_count": 71,
     "metadata": {},
     "output_type": "execute_result"
    }
   ],
   "source": [
    "x.population"
   ]
  },
  {
   "cell_type": "code",
   "execution_count": 72,
   "metadata": {},
   "outputs": [
    {
     "data": {
      "text/plain": [
       "array([<__main__.DNA object at 0x8167cd210>,\n",
       "       <__main__.DNA object at 0x8168a80d0>,\n",
       "       <__main__.DNA object at 0x8167bcbd0>,\n",
       "       <__main__.DNA object at 0x825869150>,\n",
       "       <__main__.DNA object at 0x8167cd150>], dtype=object)"
      ]
     },
     "execution_count": 72,
     "metadata": {},
     "output_type": "execute_result"
    }
   ],
   "source": [
    "x.next_population"
   ]
  },
  {
   "cell_type": "code",
   "execution_count": null,
   "metadata": {},
   "outputs": [],
   "source": []
  },
  {
   "cell_type": "code",
   "execution_count": null,
   "metadata": {},
   "outputs": [],
   "source": []
  },
  {
   "cell_type": "code",
   "execution_count": 96,
   "metadata": {},
   "outputs": [
    {
     "data": {
      "text/plain": [
       "[5, 5]"
      ]
     },
     "execution_count": 96,
     "metadata": {},
     "output_type": "execute_result"
    }
   ],
   "source": [
    "rndm.choices([1,2,3,4,5], weights = [0,0,0,0,0], k=2)"
   ]
  },
  {
   "cell_type": "code",
   "execution_count": null,
   "metadata": {},
   "outputs": [],
   "source": []
  }
 ],
 "metadata": {
  "kernelspec": {
   "display_name": "Python 3",
   "language": "python",
   "name": "python3"
  },
  "language_info": {
   "codemirror_mode": {
    "name": "ipython",
    "version": 3
   },
   "file_extension": ".py",
   "mimetype": "text/x-python",
   "name": "python",
   "nbconvert_exporter": "python",
   "pygments_lexer": "ipython3",
   "version": "3.7.7"
  }
 },
 "nbformat": 4,
 "nbformat_minor": 4
}
